{
 "cells": [
  {
   "cell_type": "markdown",
   "metadata": {},
   "source": [
    "# Practice for phase 2 in SQL"
   ]
  },
  {
   "cell_type": "code",
   "execution_count": 11,
   "metadata": {},
   "outputs": [],
   "source": [
    "# modules\n",
    "import pandas as pd \n",
    "import sqlite3"
   ]
  },
  {
   "cell_type": "code",
   "execution_count": null,
   "metadata": {},
   "outputs": [
    {
     "name": "stdout",
     "output_type": "stream",
     "text": [
      "README.md\n",
      "images\n",
      "index.ipynb\n"
     ]
    }
   ],
   "source": [
    "# Check directory\n",
    "!ls \n",
    "# Check directory\n",
    "# !dir"
   ]
  },
  {
   "cell_type": "code",
   "execution_count": 16,
   "metadata": {},
   "outputs": [],
   "source": [
    "con = sqlite3.connect('test-db.db')"
   ]
  },
  {
   "cell_type": "code",
   "execution_count": 18,
   "metadata": {},
   "outputs": [
    {
     "name": "stdout",
     "output_type": "stream",
     "text": [
      "README.md\n",
      "images\n",
      "index.ipynb\n",
      "test-db.db\n"
     ]
    }
   ],
   "source": [
    "!ls\n",
    "# >>>\n",
    "# README.md\n",
    "# images\n",
    "# index.ipynb\n",
    "# test-db.db"
   ]
  },
  {
   "cell_type": "code",
   "execution_count": null,
   "metadata": {},
   "outputs": [],
   "source": [
    "# cursor-object \n",
    "# helps execute any-command in this platform\n",
    "cur = con.cursor()"
   ]
  },
  {
   "cell_type": "code",
   "execution_count": 34,
   "metadata": {},
   "outputs": [],
   "source": [
    "# Create A DATABASE\n",
    "cur.execute('''\n",
    "CREATE TABLE IF NOT EXISTS employees(\n",
    "            id INT PRIMARY KEY,\n",
    "            name TEXT,\n",
    "            age INT,\n",
    "            dept VARCHAR,\n",
    "            salary INT\n",
    "            )\n",
    "'''\n",
    ");"
   ]
  },
  {
   "cell_type": "code",
   "execution_count": null,
   "metadata": {},
   "outputs": [
    {
     "ename": "IntegrityError",
     "evalue": "UNIQUE constraint failed: employees.id",
     "output_type": "error",
     "traceback": [
      "\u001b[1;31m---------------------------------------------------------------------------\u001b[0m",
      "\u001b[1;31mIntegrityError\u001b[0m                            Traceback (most recent call last)",
      "\u001b[1;32m<ipython-input-35-5d2f75f2397a>\u001b[0m in \u001b[0;36m<module>\u001b[1;34m\u001b[0m\n\u001b[0;32m      1\u001b[0m \u001b[1;31m# INSERTING data into the TABLE\u001b[0m\u001b[1;33m\u001b[0m\u001b[1;33m\u001b[0m\u001b[1;33m\u001b[0m\u001b[0m\n\u001b[1;32m----> 2\u001b[1;33m cur.execute(\"\"\"\n\u001b[0m\u001b[0;32m      3\u001b[0m             INSERT INTO employees(\n\u001b[0;32m      4\u001b[0m                 \u001b[0mid\u001b[0m\u001b[1;33m,\u001b[0m \u001b[0mname\u001b[0m\u001b[1;33m,\u001b[0m \u001b[0mage\u001b[0m\u001b[1;33m,\u001b[0m \u001b[0mdept\u001b[0m\u001b[1;33m,\u001b[0m \u001b[0msalary\u001b[0m\u001b[1;33m\u001b[0m\u001b[1;33m\u001b[0m\u001b[0m\n\u001b[0;32m      5\u001b[0m             )VALUES\n",
      "\u001b[1;31mIntegrityError\u001b[0m: UNIQUE constraint failed: employees.id"
     ]
    }
   ],
   "source": [
    "# INSERTING data into the TABLE\n",
    "cur.execute(\"\"\"\n",
    "            INSERT INTO employees(\n",
    "                id, name, age, dept, salary\n",
    "            )VALUES\n",
    "            (1, 'BRIAN', 30, 'EDU', 120000),\n",
    "            (2, 'SAMUEL', 15, 'IT', 540000),\n",
    "            (3, 'PAMELA', 50, 'UON', 256000)\n",
    "            \"\"\");\n",
    "con.commit()\n"
   ]
  },
  {
   "cell_type": "code",
   "execution_count": 27,
   "metadata": {},
   "outputs": [
    {
     "data": {
      "text/plain": [
       "[]"
      ]
     },
     "execution_count": 27,
     "metadata": {},
     "output_type": "execute_result"
    }
   ],
   "source": [
    "con.execute('''\n",
    "            SELECT * FROM employees\n",
    "''');\n",
    "rows = cur.fetchall()\n",
    "# display the result\n",
    "rows"
   ]
  },
  {
   "cell_type": "code",
   "execution_count": 40,
   "metadata": {},
   "outputs": [
    {
     "name": "stdout",
     "output_type": "stream",
     "text": [
      "(1, 'BRIAN', 30, 'EDU', 120000)\n",
      "(2, 'SAMUEL', 15, 'IT', 540000)\n",
      "(3, 'PAMELA', 50, 'UON', 256000)\n",
      "(4, 'BRIAN', 30, 'EDU', 120000)\n",
      "(5, 'SAMUEL', 15, 'IT', 540000)\n",
      "(6, 'PAMELA', 50, 'UON', 256000)\n",
      "(7, 'BRIAN', 30, 'EDU', 120000)\n",
      "(8, 'SAMUEL', 15, 'IT', 540000)\n",
      "(9, 'PAMELA', 50, 'UON', 256000)\n"
     ]
    }
   ],
   "source": [
    "# Fetching the data\n",
    "cur.execute(\"SELECT * FROM employees\")\n",
    "rows = cur.fetchall()\n",
    "for row in rows:\n",
    "    print(row)"
   ]
  },
  {
   "cell_type": "code",
   "execution_count": null,
   "metadata": {},
   "outputs": [],
   "source": [
    "# adding more similar\n",
    "cur.execute(\"\"\"\n",
    "    INSERT INTO employees(\n",
    "        id, name, age, dept, salary\n",
    "    ) VALUES\n",
    "    (7, 'BRIAN', 30, 'EDU', 120000),\n",
    "    (8, 'SAMUEL', 15, 'IT', 540000),\n",
    "    (9, 'PAMELA', 50, 'UON', 256000)\n",
    "\"\"\");\n",
    "con.commit()"
   ]
  },
  {
   "cell_type": "code",
   "execution_count": 43,
   "metadata": {},
   "outputs": [
    {
     "data": {
      "text/plain": [
       "[(1, 'BRIAN', 30, 'EDU', 120000),\n",
       " (2, 'SAMUEL', 15, 'IT', 540000),\n",
       " (3, 'PAMELA', 50, 'UON', 256000),\n",
       " (4, 'BRIAN', 30, 'EDU', 120000),\n",
       " (5, 'SAMUEL', 15, 'IT', 540000),\n",
       " (6, 'PAMELA', 50, 'UON', 256000),\n",
       " (7, 'BRIAN', 30, 'EDU', 120000),\n",
       " (8, 'SAMUEL', 15, 'IT', 540000),\n",
       " (9, 'PAMELA', 50, 'UON', 256000)]"
      ]
     },
     "execution_count": 43,
     "metadata": {},
     "output_type": "execute_result"
    }
   ],
   "source": [
    "# Others\n",
    "rows"
   ]
  },
  {
   "cell_type": "markdown",
   "metadata": {},
   "source": [
    "# WHERE clause"
   ]
  },
  {
   "cell_type": "code",
   "execution_count": 45,
   "metadata": {},
   "outputs": [],
   "source": [
    "cur.execute(\"\"\"\n",
    "            SELECT * FROM employees\n",
    "            WHERE age < 40\n",
    "            \"\"\");\n",
    "con.commit()"
   ]
  },
  {
   "cell_type": "code",
   "execution_count": 46,
   "metadata": {},
   "outputs": [
    {
     "data": {
      "text/plain": [
       "[(1, 'BRIAN', 30, 'EDU', 120000),\n",
       " (2, 'SAMUEL', 15, 'IT', 540000),\n",
       " (4, 'BRIAN', 30, 'EDU', 120000),\n",
       " (5, 'SAMUEL', 15, 'IT', 540000),\n",
       " (7, 'BRIAN', 30, 'EDU', 120000),\n",
       " (8, 'SAMUEL', 15, 'IT', 540000)]"
      ]
     },
     "execution_count": 46,
     "metadata": {},
     "output_type": "execute_result"
    }
   ],
   "source": [
    "where = cur.fetchall()\n",
    "where"
   ]
  },
  {
   "cell_type": "code",
   "execution_count": 47,
   "metadata": {},
   "outputs": [],
   "source": [
    "cur.execute(\"\"\"\n",
    "            SELECT * FROM employees\n",
    "            WHERE age < 40 AND age > 20\n",
    "            \"\"\");\n",
    "con.commit()"
   ]
  },
  {
   "cell_type": "code",
   "execution_count": 48,
   "metadata": {},
   "outputs": [
    {
     "data": {
      "text/plain": [
       "[(1, 'BRIAN', 30, 'EDU', 120000),\n",
       " (4, 'BRIAN', 30, 'EDU', 120000),\n",
       " (7, 'BRIAN', 30, 'EDU', 120000)]"
      ]
     },
     "execution_count": 48,
     "metadata": {},
     "output_type": "execute_result"
    }
   ],
   "source": [
    "where2 = cur.fetchall()\n",
    "where2"
   ]
  },
  {
   "cell_type": "markdown",
   "metadata": {},
   "source": [
    "# ORDER BY "
   ]
  },
  {
   "cell_type": "code",
   "execution_count": 49,
   "metadata": {},
   "outputs": [],
   "source": [
    "cur.execute(\"\"\"\n",
    "            SELECT * FROM employees\n",
    "            ORDER BY salary DESC\n",
    "            \"\"\");\n",
    "con.commit()"
   ]
  },
  {
   "cell_type": "code",
   "execution_count": null,
   "metadata": {},
   "outputs": [
    {
     "data": {
      "text/plain": [
       "[(2, 'SAMUEL', 15, 'IT', 540000),\n",
       " (5, 'SAMUEL', 15, 'IT', 540000),\n",
       " (8, 'SAMUEL', 15, 'IT', 540000),\n",
       " (3, 'PAMELA', 50, 'UON', 256000),\n",
       " (6, 'PAMELA', 50, 'UON', 256000),\n",
       " (9, 'PAMELA', 50, 'UON', 256000),\n",
       " (1, 'BRIAN', 30, 'EDU', 120000),\n",
       " (4, 'BRIAN', 30, 'EDU', 120000),\n",
       " (7, 'BRIAN', 30, 'EDU', 120000)]"
      ]
     },
     "execution_count": 50,
     "metadata": {},
     "output_type": "execute_result"
    }
   ],
   "source": [
    "# ORDER by clause fetch\n",
    "order = cur.fetchall()\n",
    "# output\n",
    "order\n"
   ]
  },
  {
   "cell_type": "code",
   "execution_count": 51,
   "metadata": {},
   "outputs": [
    {
     "data": {
      "text/plain": [
       "[(1, 'BRIAN', 30, 'EDU', 120000),\n",
       " (4, 'BRIAN', 30, 'EDU', 120000),\n",
       " (7, 'BRIAN', 30, 'EDU', 120000),\n",
       " (3, 'PAMELA', 50, 'UON', 256000),\n",
       " (6, 'PAMELA', 50, 'UON', 256000),\n",
       " (9, 'PAMELA', 50, 'UON', 256000),\n",
       " (2, 'SAMUEL', 15, 'IT', 540000),\n",
       " (5, 'SAMUEL', 15, 'IT', 540000),\n",
       " (8, 'SAMUEL', 15, 'IT', 540000)]"
      ]
     },
     "execution_count": 51,
     "metadata": {},
     "output_type": "execute_result"
    }
   ],
   "source": [
    "cur.execute(\"\"\"\n",
    "            SELECT * FROM employees\n",
    "            ORDER BY salary ASC\n",
    "            \"\"\");\n",
    "con.commit()\n",
    "# order2\n",
    "order2 = cur.fetchall()\n",
    "order2"
   ]
  },
  {
   "cell_type": "code",
   "execution_count": null,
   "metadata": {},
   "outputs": [],
   "source": []
  }
 ],
 "metadata": {
  "kernelspec": {
   "display_name": "learn-env",
   "language": "python",
   "name": "python3"
  },
  "language_info": {
   "codemirror_mode": {
    "name": "ipython",
    "version": 3
   },
   "file_extension": ".py",
   "mimetype": "text/x-python",
   "name": "python",
   "nbconvert_exporter": "python",
   "pygments_lexer": "ipython3",
   "version": "3.8.5"
  }
 },
 "nbformat": 4,
 "nbformat_minor": 2
}
